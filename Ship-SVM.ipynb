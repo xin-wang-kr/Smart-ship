{
 "cells": [
  {
   "cell_type": "code",
   "execution_count": 12,
   "metadata": {
    "collapsed": true
   },
   "outputs": [],
   "source": [
    "import matplotlib.pyplot as plt\n",
    "import json, sys, random\n",
    "from sklearn.metrics import classification_report, accuracy_score\n",
    "import numpy as np\n",
    "from sklearn.model_selection import train_test_split\n",
    "from sklearn import svm\n",
    "from sklearn.svm import SVC\n",
    "from sklearn.preprocessing import normalize"
   ]
  },
  {
   "cell_type": "code",
   "execution_count": 2,
   "metadata": {},
   "outputs": [
    {
     "data": {
      "text/plain": [
       "dict_keys(['data', 'labels', 'locations', 'scene_ids'])"
      ]
     },
     "execution_count": 2,
     "metadata": {},
     "output_type": "execute_result"
    }
   ],
   "source": [
    "f = open('./ships-in-satellite-imagery/shipsnet.json')\n",
    "dataset = json.load(f)\n",
    "f.close()\n",
    "\n",
    "dataset.keys()"
   ]
  },
  {
   "cell_type": "code",
   "execution_count": 15,
   "metadata": {},
   "outputs": [
    {
     "name": "stdout",
     "output_type": "stream",
     "text": [
      "(4000, 19200)\n"
     ]
    }
   ],
   "source": [
    "#Filtering out images and labels from JSON object\n",
    "x = np.array(dataset['data']).astype('uint8')\n",
    "y = np.array(dataset['labels']).astype('uint8')\n",
    "\n",
    "print(x.shape)\n",
    "\n",
    "# shuffle all indexes\n",
    "indexes = np.arange(4000)\n",
    "np.random.shuffle(indexes)\n",
    "\n",
    "#Shuffling Images and Labels by same shuffled index\n",
    "x = x[indexes]\n",
    "y = y[indexes]\n",
    "\n",
    "#Normalization\n",
    "x = x/255.0\n",
    "\n",
    "#Mapping labels with output classes\n",
    "classes = {0: 'Not a Ship',\n",
    "           1: 'Ship'}\n"
   ]
  },
  {
   "cell_type": "code",
   "execution_count": 16,
   "metadata": {},
   "outputs": [
    {
     "name": "stdout",
     "output_type": "stream",
     "text": [
      "(3200, 19200)\n"
     ]
    }
   ],
   "source": [
    "#Spilting data into training and testing set\n",
    "x_train,x_test,y_train,y_test = train_test_split(x,y,test_size = 0.2)\n",
    "print(x_train.shape)"
   ]
  },
  {
   "cell_type": "code",
   "execution_count": 17,
   "metadata": {
    "collapsed": true
   },
   "outputs": [],
   "source": [
    "from sklearn.metrics import confusion_matrix\n",
    "from sklearn.utils.multiclass import unique_labels\n",
    "import itertools  \n",
    "\n",
    "\n",
    "# Plot confusion matrix\n",
    "def plot_confusion_matrix(cm, classes,\n",
    "                          normalize=False,\n",
    "                          title='Confusion matrix',\n",
    "                          cmap=plt.cm.Blues):\n",
    "    \"\"\"\n",
    "    This function prints and plots the confusion matrix.\n",
    "    Normalization can be applied by setting `normalize=True`.\n",
    "    \"\"\"\n",
    "    plt.figure(figsize = (5,5))\n",
    "    plt.imshow(cm, interpolation='nearest', cmap=cmap)\n",
    "    plt.title(title)\n",
    "    plt.colorbar()\n",
    "    tick_marks = np.arange(len(classes))\n",
    "    plt.xticks(tick_marks, classes, rotation=90)\n",
    "    plt.yticks(tick_marks, classes)\n",
    "    if normalize:\n",
    "        cm = cm.astype('float') / cm.sum(axis=1)[:, np.newaxis]\n",
    "\n",
    "    thresh = cm.max() / 2.\n",
    "    for i, j in itertools.product(range(cm.shape[0]), range(cm.shape[1])):\n",
    "        plt.text(j, i, cm[i, j],\n",
    "                 horizontalalignment=\"center\",\n",
    "                 color=\"white\" if cm[i, j] > thresh else \"black\")\n",
    "    plt.tight_layout()\n",
    "    plt.ylabel('True label')\n",
    "    plt.xlabel('Predicted label')\n",
    "\n",
    "dict_characters = {0: 'No Ship', 1: 'Ship'}"
   ]
  },
  {
   "cell_type": "code",
   "execution_count": 18,
   "metadata": {},
   "outputs": [
    {
     "name": "stdout",
     "output_type": "stream",
     "text": [
      "Accuracy Score for Ships in Satellite Imagery is 88.875\n",
      "Evaluation Result\n",
      "\n",
      "             precision    recall  f1-score   support\n",
      "\n",
      "          0       0.96      0.89      0.92       599\n",
      "          1       0.73      0.88      0.80       201\n",
      "\n",
      "avg / total       0.90      0.89      0.89       800\n",
      "\n"
     ]
    },
    {
     "data": {
      "image/png": "[encoded data removed]",
      "text/plain": [
       "<matplotlib.figure.Figure at 0x94113dd710>"
      ]
     },
     "metadata": {},
     "output_type": "display_data"
    }
   ],
   "source": [
    "# Use svc in SVM package to perform this classification task\n",
    "svclassifier = SVC(kernel='linear')\n",
    "svclassifier.fit(x_train, y_train)\n",
    "\n",
    "# Make a prediction\n",
    "y_pred = svclassifier.predict(x_test)\n",
    "\n",
    "# Accuracy\n",
    "print('Accuracy Score for Ships in Satellite Imagery is {}'.format(accuracy_score(y_test, y_pred)*100))\n",
    "\n",
    "# Evaluation Result\n",
    "# Confusion matrix, precision, recall, and F1 measures are used metrics for evaluation of classification tasks.\n",
    "print(\"Evaluation Result\\n\")\n",
    "print(classification_report(y_test,y_pred))\n",
    "\n",
    "# Plot normalized confusion matrix\n",
    "confusion_mtx = confusion_matrix(y_test, y_pred)\n",
    "plot_confusion_matrix(confusion_mtx, classes = list(dict_characters.values()))\n",
    "\n",
    "plt.show()"
   ]
  },
  {
   "cell_type": "code",
   "execution_count": 19,
   "metadata": {},
   "outputs": [
    {
     "name": "stdout",
     "output_type": "stream",
     "text": [
      "Accuracy Score for Ships in Satellite Imagery is 88.875\n",
      "Evaluation Result\n",
      "\n",
      "             precision    recall  f1-score   support\n",
      "\n",
      "          0       0.96      0.89      0.92       599\n",
      "          1       0.73      0.88      0.80       201\n",
      "\n",
      "avg / total       0.90      0.89      0.89       800\n",
      "\n"
     ]
    },
    {
     "data": {
      "image/png": "[encoded data removed]",
      "text/plain": [
       "<matplotlib.figure.Figure at 0x9466c95cf8>"
      ]
     },
     "metadata": {},
     "output_type": "display_data"
    }
   ],
   "source": [
    "from sklearn.svm import LinearSVC\n",
    "\n",
    "LSVM_model = LinearSVC().fit(x_train, y_train)\n",
    "\n",
    "# Make a prediction\n",
    "y_pred = svclassifier.predict(x_test)\n",
    "\n",
    "# Accuracy\n",
    "print('Accuracy Score for Ships in Satellite Imagery is {}'.format(accuracy_score(y_test, y_pred)*100))\n",
    "\n",
    "# Evaluation Result\n",
    "# Confusion matrix, precision, recall, and F1 measures are used metrics for evaluation of classification tasks.\n",
    "print(\"Evaluation Result\\n\")\n",
    "print(classification_report(y_test,y_pred))\n",
    "\n",
    "# Plot normalized confusion matrix\n",
    "confusion_mtx = confusion_matrix(y_test, y_pred)\n",
    "plot_confusion_matrix(confusion_mtx, classes = list(dict_characters.values()))\n",
    "\n",
    "plt.show()"
   ]
  },
  {
   "cell_type": "code",
   "execution_count": null,
   "metadata": {
    "collapsed": true
   },
   "outputs": [],
   "source": []
  }
 ],
 "metadata": {
  "kernelspec": {
   "display_name": "Python 3",
   "language": "python",
   "name": "python3"
  },
  "language_info": {
   "codemirror_mode": {
    "name": "ipython",
    "version": 3
   },
   "file_extension": ".py",
   "mimetype": "text/x-python",
   "name": "python",
   "nbconvert_exporter": "python",
   "pygments_lexer": "ipython3",
   "version": "3.6.1"
  }
 },
 "nbformat": 4,
 "nbformat_minor": 2
}
