{
 "cells": [
  {
   "cell_type": "code",
   "execution_count": 1,
   "metadata": {
    "collapsed": true
   },
   "outputs": [],
   "source": [
    "import matplotlib.pyplot as plt\n",
    "import json, sys, random\n",
    "from sklearn.metrics import accuracy_score"
   ]
  },
  {
   "cell_type": "code",
   "execution_count": 2,
   "metadata": {},
   "outputs": [
    {
     "name": "stdout",
     "output_type": "stream",
     "text": [
      "dict_keys(['data', 'labels', 'locations', 'scene_ids'])\n"
     ]
    }
   ],
   "source": [
    "f = open('./ships-in-satellite-imagery/shipsnet.json')\n",
    "dataset = json.load(f)\n",
    "f.close()\n",
    "\n",
    "print(dataset.keys())"
   ]
  },
  {
   "cell_type": "code",
   "execution_count": 36,
   "metadata": {},
   "outputs": [
    {
     "name": "stdout",
     "output_type": "stream",
     "text": [
      "(4000, 19200)\n",
      "(4000, 19200)\n",
      "(4000,)\n",
      "(3200, 19200)\n"
     ]
    }
   ],
   "source": [
    "import numpy as np\n",
    "from sklearn.model_selection import train_test_split\n",
    "from keras.utils import np_utils\n",
    "\n",
    "#Filtering out images and labels from JSON object\n",
    "x = np.array(dataset['data']).astype('uint8')\n",
    "y = np.array(dataset['labels']).astype('uint8')\n",
    "\n",
    "print(x.shape)\n",
    "\n",
    "#Reshaping input images in order to feed to CNN\n",
    "#x = x.reshape([-1, 3, 80, 80]).transpose([0,2,3,1])\n",
    "#y = np_utils.to_categorical(y, num_classes=2)\n",
    "\n",
    "print(x.shape)\n",
    "print(y.shape)\n",
    "\n",
    "#Spilting data into training and testing set\n",
    "x_train,x_test,y_train,y_test = train_test_split(x,y,test_size = 0.2)\n",
    "print(x_train.shape)"
   ]
  },
  {
   "cell_type": "code",
   "execution_count": 37,
   "metadata": {
    "collapsed": true
   },
   "outputs": [],
   "source": [
    "# Reduce Sample Size for DeBugging\n",
    "x_train = x_train[0:300000] \n",
    "y_train = y_train[0:300000]\n",
    "x_test = x_test[0:300000] \n",
    "y_test = y_test[0:300000]"
   ]
  },
  {
   "cell_type": "code",
   "execution_count": 38,
   "metadata": {},
   "outputs": [],
   "source": [
    "# Train random forest model\n",
    "from sklearn.ensemble import RandomForestClassifier\n",
    "\n",
    "Randomforest_training = RandomForestClassifier().fit(x_train, y_train)"
   ]
  },
  {
   "cell_type": "code",
   "execution_count": 39,
   "metadata": {},
   "outputs": [
    {
     "name": "stdout",
     "output_type": "stream",
     "text": [
      "Accuracy Score for Ships in Satellite Imagery is 93.875\n"
     ]
    }
   ],
   "source": [
    "#Checking out accuracy score of Model\n",
    "\n",
    "from sklearn.metrics import accuracy_score\n",
    "pred = Randomforest_training.predict(x_test)\n",
    "\n",
    "\n",
    "print('Accuracy Score for Ships in Satellite Imagery is {}'.format(accuracy_score(y_test, pred)*100))"
   ]
  },
  {
   "cell_type": "code",
   "execution_count": 41,
   "metadata": {},
   "outputs": [
    {
     "data": {
      "image/png": "[encoded data removed]",
      "text/plain": [
       "<matplotlib.figure.Figure at 0xfb34430128>"
      ]
     },
     "metadata": {},
     "output_type": "display_data"
    }
   ],
   "source": [
    "from sklearn.metrics import confusion_matrix\n",
    "from sklearn.utils.multiclass import unique_labels\n",
    "import itertools  \n",
    "\n",
    "\n",
    "# Plot confusion matrix\n",
    "def plot_confusion_matrix(cm, classes,\n",
    "                          normalize=False,\n",
    "                          title='Confusion matrix',\n",
    "                          cmap=plt.cm.Blues):\n",
    "    \"\"\"\n",
    "    This function prints and plots the confusion matrix.\n",
    "    Normalization can be applied by setting `normalize=True`.\n",
    "    \"\"\"\n",
    "    plt.figure(figsize = (5,5))\n",
    "    plt.imshow(cm, interpolation='nearest', cmap=cmap)\n",
    "    plt.title(title)\n",
    "    plt.colorbar()\n",
    "    tick_marks = np.arange(len(classes))\n",
    "    plt.xticks(tick_marks, classes, rotation=90)\n",
    "    plt.yticks(tick_marks, classes)\n",
    "    if normalize:\n",
    "        cm = cm.astype('float') / cm.sum(axis=1)[:, np.newaxis]\n",
    "\n",
    "    thresh = cm.max() / 2.\n",
    "    for i, j in itertools.product(range(cm.shape[0]), range(cm.shape[1])):\n",
    "        plt.text(j, i, cm[i, j],\n",
    "                 horizontalalignment=\"center\",\n",
    "                 color=\"white\" if cm[i, j] > thresh else \"black\")\n",
    "    plt.tight_layout()\n",
    "    plt.ylabel('True label')\n",
    "    plt.xlabel('Predicted label')\n",
    "\n",
    "dict_characters = {0: 'No Ship', 1: 'Ship'}\n",
    "    \n",
    "# Plot normalized confusion matrix\n",
    "confusion_mtx = confusion_matrix(y_test, pred)\n",
    "plot_confusion_matrix(confusion_mtx, classes = list(dict_characters.values()))\n",
    "\n",
    "plt.show()"
   ]
  },
  {
   "cell_type": "code",
   "execution_count": 57,
   "metadata": {},
   "outputs": [
    {
     "name": "stderr",
     "output_type": "stream",
     "text": [
      "C:\\Users\\dell\\Anaconda3\\lib\\site-packages\\sklearn\\model_selection\\_validation.py:811: FutureWarning: Conversion of the second argument of issubdtype from `float` to `np.floating` is deprecated. In future, it will be treated as `np.float64 == np.dtype(float).type`.\n",
      "  if np.issubdtype(train_sizes_abs.dtype, np.float):\n"
     ]
    },
    {
     "name": "stdout",
     "output_type": "stream",
     "text": [
      "Training scores:\n",
      "\n",
      " [[-0.         -0.         -0.         -0.         -0.        ]\n",
      " [-0.02       -0.         -0.         -0.         -0.        ]\n",
      " [-0.006      -0.01       -0.006      -0.006      -0.002     ]\n",
      " [-0.002      -0.01       -0.005      -0.004      -0.009     ]\n",
      " [-0.003      -0.0035     -0.0025     -0.0045     -0.005     ]\n",
      " [-0.00234375 -0.0015625  -0.003125   -0.0015625  -0.003125  ]]\n",
      "\n",
      " ----------------------------------------------------------------------\n",
      "\n",
      "Validation scores:\n",
      "\n",
      " [[-0.25      -0.25      -0.25      -0.25      -0.25     ]\n",
      " [-0.18125   -0.1640625 -0.1546875 -0.165625  -0.1796875]\n",
      " [-0.1078125 -0.1171875 -0.1078125 -0.1       -0.1265625]\n",
      " [-0.0875    -0.06875   -0.0921875 -0.0890625 -0.0875   ]\n",
      " [-0.071875  -0.0625    -0.071875  -0.06875   -0.0828125]\n",
      " [-0.065625  -0.05625   -0.059375  -0.053125  -0.075    ]]\n"
     ]
    }
   ],
   "source": [
    "train_sizes = [1, 100, 500,1000, 2000, 2560]\n",
    "\n",
    "from sklearn.model_selection import learning_curve\n",
    "#features = ['AT', 'V', 'AP', 'RH']\n",
    "#target = 'PE'\n",
    "train_sizes, train_scores, validation_scores = learning_curve(\n",
    "estimator = RandomForestClassifier(), X = x_train, y= y_train, train_sizes = train_sizes, cv = 5, scoring = 'neg_mean_squared_error')\n",
    "#X = electricity[features],\n",
    "#y = electricity[target], train_sizes = train_sizes, cv = 5, scoring = 'neg_mean_squared_error')\n",
    "    \n",
    "print('Training scores:\\n\\n', train_scores)\n",
    "print('\\n', '-' * 70) # separator to make the output easy to read\n",
    "print('\\nValidation scores:\\n\\n', validation_scores)\n",
    "\n",
    "#print(train_scores)"
   ]
  },
  {
   "cell_type": "code",
   "execution_count": 58,
   "metadata": {},
   "outputs": [
    {
     "name": "stdout",
     "output_type": "stream",
     "text": [
      "Mean training scores\n",
      "\n",
      " 1      -0.000000\n",
      "100     0.004000\n",
      "500     0.006000\n",
      "1000    0.006000\n",
      "2000    0.003700\n",
      "2560    0.002344\n",
      "dtype: float64\n",
      "\n",
      " --------------------\n",
      "\n",
      "Mean validation scores\n",
      "\n",
      " 1       0.250000\n",
      "100     0.169063\n",
      "500     0.111875\n",
      "1000    0.085000\n",
      "2000    0.071563\n",
      "2560    0.061875\n",
      "dtype: float64\n"
     ]
    }
   ],
   "source": [
    "import pandas as pd\n",
    "train_scores_mean = -train_scores.mean(axis = 1)\n",
    "validation_scores_mean = -validation_scores.mean(axis = 1)\n",
    "print('Mean training scores\\n\\n', pd.Series(train_scores_mean, index = train_sizes))\n",
    "print('\\n', '-' * 20) # separator\n",
    "print('\\nMean validation scores\\n\\n',pd.Series(validation_scores_mean, index = train_sizes))"
   ]
  },
  {
   "cell_type": "code",
   "execution_count": 59,
   "metadata": {},
   "outputs": [
    {
     "data": {
      "image/png": "[encoded data removed]",
      "text/plain": [
       "<matplotlib.figure.Figure at 0xfb08beaa90>"
      ]
     },
     "metadata": {},
     "output_type": "display_data"
    }
   ],
   "source": [
    "# Plot learning curve\n",
    "\n",
    "import matplotlib.pyplot as plt\n",
    "\n",
    "#plt.style.use('seaborn')\n",
    "plt.plot(train_sizes, train_scores_mean, label = 'Training error')\n",
    "plt.plot(train_sizes, validation_scores_mean, label = 'Validation error')\n",
    "plt.ylabel('MSE', fontsize = 14)\n",
    "plt.xlabel('Training set size', fontsize = 14)\n",
    "plt.title('Learning curves for Random Forest model', fontsize = 18, y = 1.03)\n",
    "plt.legend()\n",
    "#plt.ylim(0,40)\n",
    "plt.show()"
   ]
  },
  {
   "cell_type": "code",
   "execution_count": null,
   "metadata": {
    "collapsed": true
   },
   "outputs": [],
   "source": []
  }
 ],
 "metadata": {
  "kernelspec": {
   "display_name": "Python 3",
   "language": "python",
   "name": "python3"
  },
  "language_info": {
   "codemirror_mode": {
    "name": "ipython",
    "version": 3
   },
   "file_extension": ".py",
   "mimetype": "text/x-python",
   "name": "python",
   "nbconvert_exporter": "python",
   "pygments_lexer": "ipython3",
   "version": "3.6.1"
  }
 },
 "nbformat": 4,
 "nbformat_minor": 2
}
